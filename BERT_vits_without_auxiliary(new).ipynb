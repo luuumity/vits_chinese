{
  "cells": [
    {
      "cell_type": "markdown",
      "metadata": {
        "id": "aZiWzjxBavtf"
      },
      "source": [
        "### 一、项目环境搭建（请先挂载 Google Drive）"
      ]
    },
    {
      "cell_type": "code",
      "source": [
        "from google.colab import drive\n",
        "drive.mount('/content/drive')"
      ],
      "metadata": {
        "colab": {
          "base_uri": "https://localhost:8080/"
        },
        "id": "dhK0EnFQ6lZD",
        "outputId": "9af1733a-cbf9-4684-fa5c-7831489bb7b3"
      },
      "execution_count": null,
      "outputs": [
        {
          "output_type": "stream",
          "name": "stdout",
          "text": [
            "Mounted at /content/drive\n"
          ]
        }
      ]
    },
    {
      "cell_type": "code",
      "execution_count": null,
      "metadata": {
        "id": "F_HIfKTpSpF-"
      },
      "outputs": [],
      "source": [
        "# 指定 clone 多说话人的代码分支：\n",
        "!git clone -b bert_vits_aishell3 https://github.com/luuumity/vits_chinese.git\n",
        "\n",
        "# 安装相关依赖：\n",
        "%cd vits_chinese\n",
        "!pip install -r requirements.txt\n",
        "\n",
        "# set up MAS对齐\n",
        "%cd monotonic_align\n",
        "!mkdir monotonic_align\n",
        "# colab会隐藏生成的 .so 文件！用 ls 命令可以查看到\n",
        "!python setup.py build_ext --inplace\n",
        "!ls monotonic_align\n",
        "# 也可以直接复制之前本地build出来的文件：(记得先挂载Google Drive)\n",
        "# !cp \"../../drive/MyDrive/core.cpython-38-darwin.so\" ./monotonic_align/\n",
        "%cd ..\n",
        "\n",
        "# 下载韵律模型：\n",
        "%cd bert\n",
        "!wget https://github.com/PlayVoice/vits_chinese/releases/download/v1.0/prosody_model.pt\n",
        "%cd ..\n",
        "\n",
        "# 下载多发言人预训练模型：\n",
        "!wget https://github.com/PlayVoice/vits_chinese/releases/download/v4.0/AISHELL3_G.pth\n",
        "!wget https://github.com/PlayVoice/vits_chinese/releases/download/v4.0/AISHELL3_D.pth"
      ]
    },
    {
      "cell_type": "code",
      "execution_count": null,
      "metadata": {
        "id": "91u0TWEbStw_",
        "colab": {
          "base_uri": "https://localhost:8080/"
        },
        "outputId": "274e6c88-fb39-4976-e8e1-a6d0c7b8eb6d"
      },
      "outputs": [
        {
          "output_type": "stream",
          "name": "stdout",
          "text": [
            "DEBUG:jax._src.path:etils.epath found. Using etils.epath for file I/O.\n",
            "/usr/local/lib/python3.10/dist-packages/torch/nn/utils/weight_norm.py:28: UserWarning: torch.nn.utils.weight_norm is deprecated in favor of torch.nn.utils.parametrizations.weight_norm.\n",
            "  warnings.warn(\"torch.nn.utils.weight_norm is deprecated in favor of torch.nn.utils.parametrizations.weight_norm.\")\n"
          ]
        }
      ],
      "source": [
        "# 多说话人底模测试\n",
        "!python vits_infer.py -c configs/bert_vits.json -m AISHELL3_G.pth -i 0"
      ]
    },
    {
      "cell_type": "code",
      "source": [
        "# 多说话人底模测试（无BERT参与）\n",
        "!python vits_infer_no_bert.py --config configs/bert_vits.json --model AISHELL3_G.pth -i 0"
      ],
      "metadata": {
        "colab": {
          "base_uri": "https://localhost:8080/"
        },
        "id": "qMkO063X9Vyk",
        "outputId": "a1d8111b-1f3b-4044-f9fb-bd09fa90f354"
      },
      "execution_count": null,
      "outputs": [
        {
          "output_type": "stream",
          "name": "stdout",
          "text": [
            "DEBUG:jax._src.path:etils.epath found. Using etils.epath for file I/O.\n",
            "/usr/local/lib/python3.10/dist-packages/torch/nn/utils/weight_norm.py:28: UserWarning: torch.nn.utils.weight_norm is deprecated in favor of torch.nn.utils.parametrizations.weight_norm.\n",
            "  warnings.warn(\"torch.nn.utils.weight_norm is deprecated in favor of torch.nn.utils.parametrizations.weight_norm.\")\n"
          ]
        }
      ]
    },
    {
      "cell_type": "markdown",
      "source": [],
      "metadata": {
        "id": "me5SPCOO9VKM"
      }
    },
    {
      "cell_type": "markdown",
      "metadata": {
        "id": "iiYbDudaX4hR"
      },
      "source": [
        "### 二、数据预处理"
      ]
    },
    {
      "cell_type": "code",
      "source": [
        "# 如果想要更频繁地输出信息和存档，配置文件里的 log interval 和 eval interval 可以改得更小。"
      ],
      "metadata": {
        "id": "_AasmEsI-_Ki"
      },
      "execution_count": null,
      "outputs": []
    },
    {
      "cell_type": "code",
      "execution_count": null,
      "metadata": {
        "id": "_a1IYHPvX7PL"
      },
      "outputs": [],
      "source": [
        "# 0.1 将自己的微调数据集放到 data/SJY/ 中:\n",
        "!mkdir data\n",
        "# 加 -r 参数才能递归地复制目录及其下文件，与 rm -r 是同理的。\n",
        "!cp -r ../drive/MyDrive/SJY ./data/SJY\n",
        "\n",
        "# 0.2 将文案文件 input.txt 移动到项目目录下：\n",
        "!mv ./data/SJY/input.txt ./\n",
        "\n",
        "# 0.3 手动创建 vits_data/ 目录:\n",
        "!mkdir vits_data"
      ]
    },
    {
      "cell_type": "code",
      "execution_count": null,
      "metadata": {
        "id": "B9dMIsotcf8z",
        "colab": {
          "base_uri": "https://localhost:8080/"
        },
        "outputId": "9bd583d3-c384-4faf-a3cf-e4ba3f7789f1"
      },
      "outputs": [
        {
          "output_type": "stream",
          "name": "stdout",
          "text": [
            "normalize waves: 100% 40/40 [00:09<00:00,  4.20it/s]\n",
            "vits_data/waves-16k/SJY/SJY001.wav: RIFF (little-endian) data, WAVE audio, Microsoft PCM, 16 bit, mono 16000 Hz\n"
          ]
        }
      ],
      "source": [
        "# 1. 音频重采样\n",
        "# --wav 要写角色的父文件夹，这是由代码决定的。\n",
        "# waves-16k目录会自动创建。\n",
        "!python prep_resample.py --wav data/ --out vits_data/waves-16k\n",
        "# 采样率检验（我自己的声音）：\n",
        "!file vits_data/waves-16k/SJY/SJY001.wav"
      ]
    },
    {
      "cell_type": "code",
      "execution_count": null,
      "metadata": {
        "id": "jpSdueyucuXt",
        "colab": {
          "base_uri": "https://localhost:8080/"
        },
        "outputId": "8ff835dd-1286-4f0e-9781-57cff26a7e90"
      },
      "outputs": [
        {
          "output_type": "stream",
          "name": "stdout",
          "text": [
            "拼音已成功输出到文件。\n"
          ]
        }
      ],
      "source": [
        "# 2. 拼音标注及格式规范化\n",
        "# 原始文本请放在input.txt，默认输出到vits_data/labels.txt。\n",
        "!python prep_pinyin.py\n",
        "# 建议检查一下，如果有标注不准确可以手动更正。"
      ]
    },
    {
      "cell_type": "code",
      "execution_count": null,
      "metadata": {
        "id": "G9ZFLMyPc1Y4"
      },
      "outputs": [],
      "source": [
        "# 3. 使用bert预处理\n",
        "# 手动指定测试集有多少条（val_len）：\n",
        "!python prep_bert.py --conf configs/bert_vits.json --data vits_data/\n",
        "# 请检查 vits_data/ 下的所有内容，以及 filelists/ 里的内容。"
      ]
    },
    {
      "cell_type": "code",
      "source": [
        "# 4. 将train用的数据，自我复制到800条以上：（加大每epoch中的数据数量，避免频繁读写）\n",
        "mydata = []\n",
        "temp = []\n",
        "with open('./filelists/train.txt', 'r') as f:\n",
        "  line = f.readline()\n",
        "  while line and line != '':\n",
        "    temp.append(line.strip())\n",
        "    line = f.readline()\n",
        "\n",
        "while len(mydata) <= 800:\n",
        "  mydata += temp\n",
        "\n",
        "print(f\"现在有{len(mydata)}条记录\")\n",
        "\n",
        "with open('./filelists/train.txt', 'w') as f:\n",
        "  for item in mydata:\n",
        "    f.write(item+'\\n')"
      ],
      "metadata": {
        "colab": {
          "base_uri": "https://localhost:8080/"
        },
        "id": "sa4N9hhp-VP7",
        "outputId": "fb19f679-bf7b-40f2-b4a7-f49fdf87ffa2"
      },
      "execution_count": null,
      "outputs": [
        {
          "output_type": "stream",
          "name": "stdout",
          "text": [
            "现在有832条记录\n"
          ]
        }
      ]
    },
    {
      "cell_type": "code",
      "execution_count": null,
      "metadata": {
        "colab": {
          "base_uri": "https://localhost:8080/"
        },
        "id": "B422Zv1bc4oN",
        "outputId": "b42dcec0-b381-40cd-d960-523158fd2701"
      },
      "outputs": [
        {
          "output_type": "stream",
          "name": "stdout",
          "text": [
            "\r  0% 0/40 [00:00<?, ?it/s]\r100% 40/40 [00:00<00:00, 1170.47it/s]\n"
          ]
        }
      ],
      "source": [
        "# 5. 数据调试\n",
        "!python prep_debug.py"
      ]
    },
    {
      "cell_type": "markdown",
      "metadata": {
        "id": "EHIg5EBEgqBI"
      },
      "source": [
        "### 三、启动训练（输出默认都在logs/路径下）"
      ]
    },
    {
      "cell_type": "markdown",
      "source": [
        "本项目无法使用 Duration Predictor（dp），因为AISHELL3预训练模型用的就是 Scholastic Duration Predictor（sdp）。\n",
        "\\\n",
        "如果微调时想用dp，加载底模型权重时就会报错。"
      ],
      "metadata": {
        "id": "JBFPzP2daezK"
      }
    },
    {
      "cell_type": "code",
      "execution_count": null,
      "metadata": {
        "id": "fj_krsMDgrtu"
      },
      "outputs": [],
      "source": [
        "# 输出默认都在logs/路径下，记得手动下载保存，下次还可以当底模型接着用。\n",
        "# 需手动开启 Tensorboard：\n",
        "# 如有bug，请仿照vits-fast-fine-tuning做。\n",
        "%load_ext tensorboard\n",
        "%tensorboard --logdir \"./logs\"\n",
        "!python train.py -c configs/bert_vits.json -m bert_vits"
      ]
    },
    {
      "cell_type": "markdown",
      "source": [
        "### 四、储存模型到 Google Drive"
      ],
      "metadata": {
        "id": "3D_BssIjLjti"
      }
    },
    {
      "cell_type": "code",
      "source": [
        "!cp logs/bert_vits/G_1200.pth ../drive/MyDrive/微调方式1（无辅助数据）/test3（40条）/G_1200.pth"
      ],
      "metadata": {
        "id": "kLZnQOvHLWFY"
      },
      "execution_count": null,
      "outputs": []
    },
    {
      "cell_type": "code",
      "source": [
        "!cp logs/bert_vits/D_1200.pth ../drive/MyDrive/微调方式1（无辅助数据）/test3（40条）/D_1200.pth"
      ],
      "metadata": {
        "id": "j9LPQWNSKiT1"
      },
      "execution_count": null,
      "outputs": []
    },
    {
      "cell_type": "markdown",
      "metadata": {
        "id": "X4-WKHe636Gp"
      },
      "source": [
        "### 五、推理测试"
      ]
    },
    {
      "cell_type": "code",
      "source": [
        "# 测试网盘中存储的模型：\n",
        "!cp ../drive/MyDrive/微调方式1（无辅助数据）/test3（40条）/G_1200.pth ./G_1200.pth\n",
        "!python vits_infer.py -c configs/bert_vits.json -m G_1200.pth -i 0\n",
        "# 可以控制length_scale、noise_scale_w、noise_scale参数，这是所使用的 Stochastic Duration Predictor (sdp)的作用。\n",
        "# !python vits_infer.py -c configs/bert_vits.json -m G_1000.pth -i 0 -l 1.1 -n 0.56"
      ],
      "metadata": {
        "id": "sMjzWPFwU6H8",
        "colab": {
          "base_uri": "https://localhost:8080/"
        },
        "outputId": "5db53db4-5dd8-49eb-a3ee-e496f31ec2d8"
      },
      "execution_count": null,
      "outputs": [
        {
          "output_type": "stream",
          "name": "stdout",
          "text": [
            "DEBUG:jax._src.path:etils.epath found. Using etils.epath for file I/O.\n",
            "/usr/local/lib/python3.10/dist-packages/torch/nn/utils/weight_norm.py:28: UserWarning: torch.nn.utils.weight_norm is deprecated in favor of torch.nn.utils.parametrizations.weight_norm.\n",
            "  warnings.warn(\"torch.nn.utils.weight_norm is deprecated in favor of torch.nn.utils.parametrizations.weight_norm.\")\n"
          ]
        }
      ]
    },
    {
      "cell_type": "code",
      "execution_count": null,
      "metadata": {
        "id": "Cnd68D4e337x"
      },
      "outputs": [],
      "source": [
        "# 直接测试colab文件系统内的模型：\n",
        "!python vits_infer.py -c configs/bert_vits.json -m logs/bert_vits/G_1200.pth -i 0"
      ]
    },
    {
      "cell_type": "code",
      "source": [
        "# 无BERT的推理测试：\n",
        "!python vits_infer_no_bert.py -c configs/bert_vits.json -m G_1200.pth -i 0"
      ],
      "metadata": {
        "id": "UKTizBo6FiWC"
      },
      "execution_count": null,
      "outputs": []
    },
    {
      "cell_type": "markdown",
      "source": [
        "#### 本notebook最后修改日期：2024.5.2"
      ],
      "metadata": {
        "id": "8KzqNJGA9G1R"
      }
    }
  ],
  "metadata": {
    "colab": {
      "provenance": []
    },
    "kernelspec": {
      "display_name": "Python 3",
      "name": "python3"
    },
    "language_info": {
      "name": "python"
    }
  },
  "nbformat": 4,
  "nbformat_minor": 0
}